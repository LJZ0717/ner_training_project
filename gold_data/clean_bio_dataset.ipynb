{
 "cells": [
  {
   "cell_type": "code",
   "execution_count": 3,
   "id": "f747673c",
   "metadata": {},
   "outputs": [
    {
     "name": "stdout",
     "output_type": "stream",
     "text": [
      "✅ 清洗完成，生成新文件： C:\\Users\\Administrator\\Desktop\\Project\\bio_dataset_cleaned.txt\n"
     ]
    }
   ],
   "source": [
    "import re\n",
    "\n",
    "def is_punctuation(token):\n",
    "    return re.fullmatch(r'[^\\w\\s]', token) is not None\n",
    "\n",
    "def clean_bio_file(input_path, output_path):\n",
    "    with open(input_path, 'r', encoding='utf-8') as infile, \\\n",
    "         open(output_path, 'w', encoding='utf-8') as outfile:\n",
    "        \n",
    "        for line in infile:\n",
    "            line = line.strip()\n",
    "            if line == \"\":\n",
    "                outfile.write(\"\\n\")  # 保留空行\n",
    "                continue\n",
    "\n",
    "            parts = line.split()\n",
    "            if len(parts) != 2:\n",
    "                continue  # 跳过异常行\n",
    "\n",
    "            token, tag = parts\n",
    "            if not is_punctuation(token):  # 去除单独的标点\n",
    "                outfile.write(f\"{token} {tag}\\n\")\n",
    "\n",
    "# 替换为你的实际路径\n",
    "input_path = r\"C:\\Users\\Administrator\\Desktop\\Project\\bio_dataset.txt\"\n",
    "output_path = r\"C:\\Users\\Administrator\\Desktop\\Project\\bio_dataset_cleaned.txt\"\n",
    "\n",
    "clean_bio_file(input_path, output_path)\n",
    "print(\"✅ 清洗完成，生成新文件：\", output_path)\n",
    "\n",
    "\n"
   ]
  }
 ],
 "metadata": {
  "kernelspec": {
   "display_name": "ner_env",
   "language": "python",
   "name": "python3"
  },
  "language_info": {
   "codemirror_mode": {
    "name": "ipython",
    "version": 3
   },
   "file_extension": ".py",
   "mimetype": "text/x-python",
   "name": "python",
   "nbconvert_exporter": "python",
   "pygments_lexer": "ipython3",
   "version": "3.10.18"
  }
 },
 "nbformat": 4,
 "nbformat_minor": 5
}
