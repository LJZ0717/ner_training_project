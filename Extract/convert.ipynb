{
 "cells": [
  {
   "cell_type": "code",
   "execution_count": null,
   "id": "81b23298",
   "metadata": {},
   "outputs": [
    {
     "name": "stdout",
     "output_type": "stream",
     "text": [
      "finished, save 1948 to extracted_spans_from_pred_pairs.csv\n"
     ]
    }
   ],
   "source": [
    "import pandas as pd\n",
    "\n",
    "# 1. \n",
    "df = pd.read_csv(r\"C:\\Users\\Administrator\\Desktop\\Project\\RE(3)\\pred_pairs.csv\")\n",
    "\n",
    "# 2. Only keep rows where the prediction is HasRelation\n",
    "pos = df[df[\"pred\"] == \"HasRelation\"].copy()\n",
    "\n",
    "# 3. Extract the required columns:\n",
    "# - e2_text as span_text (HPO_TERM)\n",
    "# - sentence as context\n",
    "# - doc_id retained for easy tracking\n",
    "spans = pos[[\"doc_id\", \"e2_text\", \"sentence\"]].rename(\n",
    "    columns={\"e2_text\": \"span_text\", \"sentence\": \"context\"}\n",
    ")\n",
    "\n",
    "# 4. Deduplication (avoid duplicate spans/contexts in the same doc_id)\n",
    "spans_dedup = spans.drop_duplicates()\n",
    "\n",
    "out_path = \"extracted_spans_from_pred_pairs.csv\"\n",
    "spans_dedup.to_csv(out_path, index=False, encoding=\"utf-8-sig\")\n",
    "\n",
    "print(f\"finished, save {len(spans_dedup)} to {out_path}\")\n"
   ]
  }
 ],
 "metadata": {
  "kernelspec": {
   "display_name": "ner_env",
   "language": "python",
   "name": "python3"
  },
  "language_info": {
   "codemirror_mode": {
    "name": "ipython",
    "version": 3
   },
   "file_extension": ".py",
   "mimetype": "text/x-python",
   "name": "python",
   "nbconvert_exporter": "python",
   "pygments_lexer": "ipython3",
   "version": "3.10.18"
  }
 },
 "nbformat": 4,
 "nbformat_minor": 5
}
