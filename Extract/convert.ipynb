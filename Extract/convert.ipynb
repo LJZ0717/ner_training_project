{
 "cells": [
  {
   "cell_type": "code",
   "execution_count": 3,
   "id": "81b23298",
   "metadata": {},
   "outputs": [
    {
     "name": "stdout",
     "output_type": "stream",
     "text": [
      "finished, save 1948 to extracted_spans_from_pred_pairs.csv\n"
     ]
    }
   ],
   "source": [
    "import pandas as pd\n",
    "\n",
    "# 1. 读取原始 pred_pairs.csv\n",
    "df = pd.read_csv(r\"C:\\Users\\Administrator\\Desktop\\Project\\RE(3)\\pred_pairs.csv\")\n",
    "\n",
    "# 2. 只保留预测为 HasRelation 的行\n",
    "pos = df[df[\"pred\"] == \"HasRelation\"].copy()\n",
    "\n",
    "# 3. 抽取需要的列：\n",
    "#    - e2_text 作为 span_text （HPO_TERM）\n",
    "#    - sentence 作为 context\n",
    "#    - doc_id 保留方便追踪\n",
    "spans = pos[[\"doc_id\", \"e2_text\", \"sentence\"]].rename(\n",
    "    columns={\"e2_text\": \"span_text\", \"sentence\": \"context\"}\n",
    ")\n",
    "\n",
    "# 4. 去重（避免同一个 doc_id 里重复的 span/context）\n",
    "spans_dedup = spans.drop_duplicates()\n",
    "\n",
    "# 5. 保存为新的 CSV\n",
    "out_path = \"extracted_spans_from_pred_pairs.csv\"\n",
    "spans_dedup.to_csv(out_path, index=False, encoding=\"utf-8-sig\")\n",
    "\n",
    "print(f\"finished, save {len(spans_dedup)} to {out_path}\")\n"
   ]
  }
 ],
 "metadata": {
  "kernelspec": {
   "display_name": "ner_env",
   "language": "python",
   "name": "python3"
  },
  "language_info": {
   "codemirror_mode": {
    "name": "ipython",
    "version": 3
   },
   "file_extension": ".py",
   "mimetype": "text/x-python",
   "name": "python",
   "nbconvert_exporter": "python",
   "pygments_lexer": "ipython3",
   "version": "3.10.18"
  }
 },
 "nbformat": 4,
 "nbformat_minor": 5
}
