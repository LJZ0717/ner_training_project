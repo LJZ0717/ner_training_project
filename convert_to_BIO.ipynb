{
 "cells": [
  {
   "cell_type": "code",
   "execution_count": null,
   "id": "0b191c6f",
   "metadata": {},
   "outputs": [
    {
     "name": "stderr",
     "output_type": "stream",
     "text": [
      "f:\\Anaconda\\envs\\ner_env\\lib\\site-packages\\tqdm\\auto.py:21: TqdmWarning: IProgress not found. Please update jupyter and ipywidgets. See https://ipywidgets.readthedocs.io/en/stable/user_install.html\n",
      "  from .autonotebook import tqdm as notebook_tqdm\n",
      "Token indices sequence length is longer than the specified maximum sequence length for this model (588 > 512). Running this sequence through the model will result in indexing errors\n"
     ]
    }
   ],
   "source": [
    "from pathlib import Path\n",
    "import json\n",
    "from typing import List, Tuple\n",
    "from transformers import AutoTokenizer\n",
    "\n",
    "tokenizer = AutoTokenizer.from_pretrained(\"bert-base-uncased\")\n",
    "\n",
    "def spans_to_bio(text: str, spans: List[dict]) -> List[Tuple[str, str]]:\n",
    "    encoding = tokenizer(\n",
    "        text,\n",
    "        return_offsets_mapping=True,\n",
    "        add_special_tokens=False,\n",
    "        return_attention_mask=False\n",
    "    )\n",
    "    offsets = encoding[\"offset_mapping\"]\n",
    "    subwords = tokenizer.convert_ids_to_tokens(encoding[\"input_ids\"])\n",
    "    tags = [\"O\"] * len(offsets)\n",
    "\n",
    "    for span in spans:\n",
    "        start, end, label = span[\"start\"], span[\"end\"], span[\"label\"]\n",
    "        in_span = False\n",
    "        for i, (tok_start, tok_end) in enumerate(offsets):\n",
    "            if tok_end <= start:\n",
    "                continue\n",
    "            if tok_start >= end:\n",
    "                break\n",
    "            if not in_span:\n",
    "                tags[i] = f\"B-{label}\"\n",
    "                in_span = True\n",
    "            else:\n",
    "                tags[i] = f\"I-{label}\"\n",
    "\n",
    "\n",
    "    output = []\n",
    "    for token, tag in zip(subwords, tags):\n",
    "        if token.strip() and (token.isalnum() or token.startswith(\"##\")):\n",
    "            output.append((token, tag))\n",
    "    return output\n",
    "\n",
    "def process_jsonl_directory(input_dir: str, output_path: str):\n",
    "    input_dir = Path(input_dir)\n",
    "    all_bio_lines = []\n",
    "\n",
    "    for file in input_dir.glob(\"*.jsonl\"):\n",
    "        with open(file, \"r\", encoding=\"utf-8\") as f:\n",
    "            for line in f:\n",
    "                obj = json.loads(line)\n",
    "                text = obj[\"text\"]\n",
    "                spans = obj.get(\"spans\", [])\n",
    "                bio_tags = spans_to_bio(text, spans)\n",
    "                for token, tag in bio_tags:\n",
    "                    all_bio_lines.append(f\"{token} {tag}\")\n",
    "                all_bio_lines.append(\"\")  \n",
    "\n",
    "    with open(output_path, \"w\", encoding=\"utf-8\") as f_out:\n",
    "        f_out.write(\"\\n\".join(all_bio_lines))\n",
    "\n",
    "\n",
    "input_folder = r\"C:\\Users\\Administrator\\Desktop\\Project\\Resource\\annotations_new\"\n",
    "output_file = r\"C:\\Users\\Administrator\\Desktop\\Project\\bio_dataset_cleaned(1).txt\"\n",
    "\n",
    "process_jsonl_directory(input_folder, output_file)\n"
   ]
  }
 ],
 "metadata": {
  "kernelspec": {
   "display_name": "ner_env",
   "language": "python",
   "name": "python3"
  },
  "language_info": {
   "codemirror_mode": {
    "name": "ipython",
    "version": 3
   },
   "file_extension": ".py",
   "mimetype": "text/x-python",
   "name": "python",
   "nbconvert_exporter": "python",
   "pygments_lexer": "ipython3",
   "version": "3.10.18"
  }
 },
 "nbformat": 4,
 "nbformat_minor": 5
}
